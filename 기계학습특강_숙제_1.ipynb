{
  "nbformat": 4,
  "nbformat_minor": 0,
  "metadata": {
    "colab": {
      "name": "기계학습특강_숙제 #1_제출용",
      "provenance": [],
      "authorship_tag": "ABX9TyP6mymTNZhkwArtepU4cNvS",
      "include_colab_link": true
    },
    "kernelspec": {
      "name": "python3",
      "display_name": "Python 3"
    },
    "language_info": {
      "name": "python"
    }
  },
  "cells": [
    {
      "cell_type": "markdown",
      "metadata": {
        "id": "view-in-github",
        "colab_type": "text"
      },
      "source": [
        "<a href=\"https://colab.research.google.com/github/mynameisyouji/MLstudy/blob/main/%EA%B8%B0%EA%B3%84%ED%95%99%EC%8A%B5%ED%8A%B9%EA%B0%95_%EC%88%99%EC%A0%9C_1.ipynb\" target=\"_parent\"><img src=\"https://colab.research.google.com/assets/colab-badge.svg\" alt=\"Open In Colab\"/></a>"
      ]
    },
    {
      "cell_type": "code",
      "metadata": {
        "colab": {
          "base_uri": "https://localhost:8080/",
          "height": 222
        },
        "id": "OVA7kNV_6nIw",
        "outputId": "f2d17ef9-37c6-47cd-8046-a7543c24ee17"
      },
      "source": [
        "import pandas as pd\n",
        "import numpy as np\n",
        "import matplotlib.pyplot as plt\n",
        "from google.colab import drive\n",
        "drive.mount('/gdrive', force_remount=True)\n",
        "df=pd.read_csv('/gdrive/MyDrive/data/winequality_red.csv')\n",
        "df.head(5)"
      ],
      "execution_count": 68,
      "outputs": [
        {
          "output_type": "stream",
          "name": "stdout",
          "text": [
            "Mounted at /gdrive\n"
          ]
        },
        {
          "output_type": "execute_result",
          "data": {
            "text/html": [
              "<div>\n",
              "<style scoped>\n",
              "    .dataframe tbody tr th:only-of-type {\n",
              "        vertical-align: middle;\n",
              "    }\n",
              "\n",
              "    .dataframe tbody tr th {\n",
              "        vertical-align: top;\n",
              "    }\n",
              "\n",
              "    .dataframe thead th {\n",
              "        text-align: right;\n",
              "    }\n",
              "</style>\n",
              "<table border=\"1\" class=\"dataframe\">\n",
              "  <thead>\n",
              "    <tr style=\"text-align: right;\">\n",
              "      <th></th>\n",
              "      <th>fixed acidity</th>\n",
              "      <th>volatile acidity</th>\n",
              "      <th>citric acid</th>\n",
              "      <th>residual sugar</th>\n",
              "      <th>chlorides</th>\n",
              "      <th>free sulfur dioxide</th>\n",
              "      <th>total sulfur dioxide</th>\n",
              "      <th>density</th>\n",
              "      <th>pH</th>\n",
              "      <th>sulphates</th>\n",
              "      <th>alcohol</th>\n",
              "      <th>quality</th>\n",
              "    </tr>\n",
              "  </thead>\n",
              "  <tbody>\n",
              "    <tr>\n",
              "      <th>0</th>\n",
              "      <td>7.4</td>\n",
              "      <td>0.70</td>\n",
              "      <td>0.00</td>\n",
              "      <td>1.9</td>\n",
              "      <td>0.076</td>\n",
              "      <td>11.0</td>\n",
              "      <td>34.0</td>\n",
              "      <td>0.9978</td>\n",
              "      <td>3.51</td>\n",
              "      <td>0.56</td>\n",
              "      <td>9.4</td>\n",
              "      <td>5</td>\n",
              "    </tr>\n",
              "    <tr>\n",
              "      <th>1</th>\n",
              "      <td>7.8</td>\n",
              "      <td>0.88</td>\n",
              "      <td>0.00</td>\n",
              "      <td>2.6</td>\n",
              "      <td>0.098</td>\n",
              "      <td>25.0</td>\n",
              "      <td>67.0</td>\n",
              "      <td>0.9968</td>\n",
              "      <td>3.20</td>\n",
              "      <td>0.68</td>\n",
              "      <td>9.8</td>\n",
              "      <td>5</td>\n",
              "    </tr>\n",
              "    <tr>\n",
              "      <th>2</th>\n",
              "      <td>7.8</td>\n",
              "      <td>0.76</td>\n",
              "      <td>0.04</td>\n",
              "      <td>2.3</td>\n",
              "      <td>0.092</td>\n",
              "      <td>15.0</td>\n",
              "      <td>54.0</td>\n",
              "      <td>0.9970</td>\n",
              "      <td>3.26</td>\n",
              "      <td>0.65</td>\n",
              "      <td>9.8</td>\n",
              "      <td>5</td>\n",
              "    </tr>\n",
              "    <tr>\n",
              "      <th>3</th>\n",
              "      <td>11.2</td>\n",
              "      <td>0.28</td>\n",
              "      <td>0.56</td>\n",
              "      <td>1.9</td>\n",
              "      <td>0.075</td>\n",
              "      <td>17.0</td>\n",
              "      <td>60.0</td>\n",
              "      <td>0.9980</td>\n",
              "      <td>3.16</td>\n",
              "      <td>0.58</td>\n",
              "      <td>9.8</td>\n",
              "      <td>6</td>\n",
              "    </tr>\n",
              "    <tr>\n",
              "      <th>4</th>\n",
              "      <td>7.4</td>\n",
              "      <td>0.70</td>\n",
              "      <td>0.00</td>\n",
              "      <td>1.9</td>\n",
              "      <td>0.076</td>\n",
              "      <td>11.0</td>\n",
              "      <td>34.0</td>\n",
              "      <td>0.9978</td>\n",
              "      <td>3.51</td>\n",
              "      <td>0.56</td>\n",
              "      <td>9.4</td>\n",
              "      <td>5</td>\n",
              "    </tr>\n",
              "  </tbody>\n",
              "</table>\n",
              "</div>"
            ],
            "text/plain": [
              "   fixed acidity  volatile acidity  citric acid  ...  sulphates  alcohol  quality\n",
              "0            7.4              0.70         0.00  ...       0.56      9.4        5\n",
              "1            7.8              0.88         0.00  ...       0.68      9.8        5\n",
              "2            7.8              0.76         0.04  ...       0.65      9.8        5\n",
              "3           11.2              0.28         0.56  ...       0.58      9.8        6\n",
              "4            7.4              0.70         0.00  ...       0.56      9.4        5\n",
              "\n",
              "[5 rows x 12 columns]"
            ]
          },
          "metadata": {},
          "execution_count": 68
        }
      ]
    },
    {
      "cell_type": "code",
      "metadata": {
        "colab": {
          "base_uri": "https://localhost:8080/",
          "height": 0
        },
        "id": "6GgDVgBB6qIv",
        "outputId": "d5527466-ebe7-4f45-d5dc-23496ec6592a"
      },
      "source": [
        "print(df.corr())\n",
        "print(df.dtypes)\n",
        "print(df.shape)"
      ],
      "execution_count": 69,
      "outputs": [
        {
          "output_type": "stream",
          "name": "stdout",
          "text": [
            "                      fixed acidity  volatile acidity  ...   alcohol   quality\n",
            "fixed acidity              1.000000         -0.256131  ... -0.061668  0.124052\n",
            "volatile acidity          -0.256131          1.000000  ... -0.202288 -0.390558\n",
            "citric acid                0.671703         -0.552496  ...  0.109903  0.226373\n",
            "residual sugar             0.114777          0.001918  ...  0.042075  0.013732\n",
            "chlorides                  0.093705          0.061298  ... -0.221141 -0.128907\n",
            "free sulfur dioxide       -0.153794         -0.010504  ... -0.069408 -0.050656\n",
            "total sulfur dioxide      -0.113181          0.076470  ... -0.205654 -0.185100\n",
            "density                    0.668047          0.022026  ... -0.496180 -0.174919\n",
            "pH                        -0.682978          0.234937  ...  0.205633 -0.057731\n",
            "sulphates                  0.183006         -0.260987  ...  0.093595  0.251397\n",
            "alcohol                   -0.061668         -0.202288  ...  1.000000  0.476166\n",
            "quality                    0.124052         -0.390558  ...  0.476166  1.000000\n",
            "\n",
            "[12 rows x 12 columns]\n",
            "fixed acidity           float64\n",
            "volatile acidity        float64\n",
            "citric acid             float64\n",
            "residual sugar          float64\n",
            "chlorides               float64\n",
            "free sulfur dioxide     float64\n",
            "total sulfur dioxide    float64\n",
            "density                 float64\n",
            "pH                      float64\n",
            "sulphates               float64\n",
            "alcohol                 float64\n",
            "quality                   int64\n",
            "dtype: object\n",
            "(1599, 12)\n"
          ]
        }
      ]
    },
    {
      "cell_type": "code",
      "metadata": {
        "id": "S6oRF3j464eN"
      },
      "source": [
        "#train set과 test set으로 나누기\n",
        "from sklearn.model_selection import train_test_split\n",
        "trnx, tstx, trny, tsty = train_test_split(df.iloc[:,0:11], df.iloc[:,11], test_size=0.3, random_state=128)"
      ],
      "execution_count": 70,
      "outputs": []
    },
    {
      "cell_type": "code",
      "metadata": {
        "colab": {
          "base_uri": "https://localhost:8080/",
          "height": 333
        },
        "id": "F1EmtAag7BMN",
        "outputId": "347634d8-a403-40ef-a4cb-c76e719536b1"
      },
      "source": [
        "#Linear regression 모델 만들기\n",
        "from sklearn.linear_model import LinearRegression\n",
        "model = LinearRegression()\n",
        "model.fit(X=trnx, y=trny)\n",
        "lr_pred = model.predict(X=tstx)\n",
        "# print(lr_pred[:100])\n",
        "plt.scatter(x=tsty,y=lr_pred)\n",
        "plt.xlabel('y')\n",
        "plt.ylabel('y_hat')\n",
        "\n",
        "from sklearn import metrics\n",
        "print('RMSE:', np.sqrt(metrics.mean_squared_error(lr_pred, tsty)))\n",
        "print('R2:', metrics.r2_score(tsty, lr_pred))\n",
        "print(np.correlate(tsty,lr_pred))"
      ],
      "execution_count": 71,
      "outputs": [
        {
          "output_type": "stream",
          "name": "stdout",
          "text": [
            "RMSE: 0.6835492330940495\n",
            "R2: 0.2901941577683439\n",
            "[15266.20001419]\n"
          ]
        },
        {
          "output_type": "display_data",
          "data": {
            "image/png": "[encoded data removed]",
            "text/plain": [
              "<Figure size 432x288 with 1 Axes>"
            ]
          },
          "metadata": {
            "needs_background": "light"
          }
        }
      ]
    },
    {
      "cell_type": "code",
      "metadata": {
        "colab": {
          "base_uri": "https://localhost:8080/",
          "height": 334
        },
        "id": "gIX2pHbAfT35",
        "outputId": "fc1840a6-bbad-4066-d76c-27fdb43c064e"
      },
      "source": [
        "#LASSO regression 모델 만들기\n",
        "\n",
        "from sklearn.linear_model import Lasso\n",
        "model_lasso = Lasso()\n",
        "model_lasso.fit(X=trnx, y=trny)\n",
        "lr_pred_lasso = model_lasso.predict(X=tstx)\n",
        "\n",
        "plt.scatter(x=tsty, y=lr_pred_lasso)\n",
        "plt.xlabel('y_lasso')\n",
        "plt.ylabel('y_hat_lasso')\n",
        "\n",
        "print('RMSE_lasso:', np.sqrt(metrics.mean_squared_error(lr_pred_lasso, tsty)))\n",
        "print('R2_lasso:', metrics.r2_score(tsty, lr_pred_lasso))\n",
        "print('Correlate_lasso:', np.correlate(tsty, lr_pred_lasso))"
      ],
      "execution_count": 72,
      "outputs": [
        {
          "output_type": "stream",
          "name": "stdout",
          "text": [
            "RMSE_lasso: 0.8009055790246365\n",
            "R2_lasso: 0.025543163858618878\n",
            "Correlate_lasso: [15192.06724416]\n"
          ]
        },
        {
          "output_type": "display_data",
          "data": {
            "image/png": "[encoded data removed]",
            "text/plain": [
              "<Figure size 432x288 with 1 Axes>"
            ]
          },
          "metadata": {
            "needs_background": "light"
          }
        }
      ]
    },
    {
      "cell_type": "code",
      "metadata": {
        "colab": {
          "base_uri": "https://localhost:8080/",
          "height": 334
        },
        "id": "VLsyDh4C7NHl",
        "outputId": "1c553523-cd42-46ce-d58c-14c003c7a8df"
      },
      "source": [
        "#Ridge regression 모델 만들기\n",
        "\n",
        "from sklearn.linear_model import Ridge\n",
        "model_ridge = Ridge()\n",
        "model_ridge.fit(X=trnx, y=trny)\n",
        "lr_pred_ridge = model_ridge.predict(X=tstx)\n",
        "\n",
        "plt.scatter(x=tsty, y=lr_pred_ridge)\n",
        "plt.xlabel('y_ridge')\n",
        "plt.ylabel('y_hat_ridge')\n",
        "\n",
        "print('RMSE_ridge:', np.sqrt(metrics.mean_squared_error(lr_pred_ridge, tsty)))\n",
        "print('R2_ridge:', metrics.r2_score(tsty, lr_pred_ridge))\n",
        "print('Correlate_ridge:', np.correlate(tsty, lr_pred_ridge))"
      ],
      "execution_count": 73,
      "outputs": [
        {
          "output_type": "stream",
          "name": "stdout",
          "text": [
            "RMSE_ridge: 0.6862077481937757\n",
            "R2_ridge: 0.28466215201931844\n",
            "Correlate_ridge: [15266.48203713]\n"
          ]
        },
        {
          "output_type": "display_data",
          "data": {
            "image/png": "[encoded data removed]",
            "text/plain": [
              "<Figure size 432x288 with 1 Axes>"
            ]
          },
          "metadata": {
            "needs_background": "light"
          }
        }
      ]
    },
    {
      "cell_type": "code",
      "metadata": {
        "colab": {
          "base_uri": "https://localhost:8080/",
          "height": 0
        },
        "id": "uBUlgIpw7OXt",
        "outputId": "63756beb-ee6a-4604-b3c1-0335561ff6d3"
      },
      "source": [
        "print('LR:',model.coef_)\n",
        "print()\n",
        "print('Lasso:',model_lasso.coef_)\n",
        "print()\n",
        "print('Ridge:', model_ridge.coef_)"
      ],
      "execution_count": 74,
      "outputs": [
        {
          "output_type": "stream",
          "name": "stdout",
          "text": [
            "LR: [ 3.10926353e-02 -1.09180680e+00 -2.34607186e-01  2.23596034e-02\n",
            " -1.23865350e+00  3.13708103e-03 -3.14382758e-03 -2.36794974e+01\n",
            " -3.77766614e-01  8.67094581e-01  3.02815520e-01]\n",
            "\n",
            "Lasso: [ 0.        -0.         0.         0.        -0.         0.\n",
            " -0.0036098 -0.        -0.         0.         0.       ]\n",
            "\n",
            "Ridge: [ 0.01200809 -1.08651364 -0.21526556  0.01116997 -0.80606057  0.00336997\n",
            " -0.00313686 -0.0181154  -0.43139012  0.76361599  0.3304082 ]\n"
          ]
        }
      ]
    },
    {
      "cell_type": "code",
      "metadata": {
        "colab": {
          "base_uri": "https://localhost:8080/",
          "height": 0
        },
        "id": "5kyu-WO2fNNC",
        "outputId": "016eb232-0183-4c9b-e70b-c7555543689a"
      },
      "source": [
        "print('RMSE:', np.sqrt(metrics.mean_squared_error(lr_pred, tsty)))\n",
        "print('R2:', metrics.r2_score(tsty, lr_pred))\n",
        "print()\n",
        "print('RMSE_lasso:', np.sqrt(metrics.mean_squared_error(lr_pred_lasso, tsty)))\n",
        "print('R2_lasso:', metrics.r2_score(tsty, lr_pred_lasso))\n",
        "print()\n",
        "print('RMSE_ridge:', np.sqrt(metrics.mean_squared_error(lr_pred_ridge, tsty)))\n",
        "print('R2_ridge:', metrics.r2_score(tsty, lr_pred_ridge))"
      ],
      "execution_count": 75,
      "outputs": [
        {
          "output_type": "stream",
          "name": "stdout",
          "text": [
            "RMSE: 0.6835492330940495\n",
            "R2: 0.2901941577683439\n",
            "\n",
            "RMSE_lasso: 0.8009055790246365\n",
            "R2_lasso: 0.025543163858618878\n",
            "\n",
            "RMSE_ridge: 0.6862077481937757\n",
            "R2_ridge: 0.28466215201931844\n"
          ]
        }
      ]
    },
    {
      "cell_type": "code",
      "metadata": {
        "id": "OY0QtDDifSdn"
      },
      "source": [
        ""
      ],
      "execution_count": null,
      "outputs": []
    }
  ]
}